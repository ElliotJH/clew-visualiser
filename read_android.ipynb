{
 "cells": [
  {
   "cell_type": "code",
   "execution_count": 1,
   "metadata": {
    "collapsed": true
   },
   "outputs": [],
   "source": [
    "import pandas as pd"
   ]
  },
  {
   "cell_type": "code",
   "execution_count": 15,
   "metadata": {
    "collapsed": false
   },
   "outputs": [],
   "source": [
    "import numpy as np"
   ]
  },
  {
   "cell_type": "code",
   "execution_count": 117,
   "metadata": {
    "collapsed": false
   },
   "outputs": [],
   "source": [
    "def process_data(filename=\"test_resources/test_android.tsv\", var_threshold=20):\n",
    "    android_data = pd.read_csv(filename, delimiter=\" \", header=None)\n",
    "    android_data.columns = [\"heading\", \"steps\", \"time\"]\n",
    "    android_data[\"round_time\"] = (np.round(android_data[\"time\"]/500, 0)*500).astype(np.int64)\n",
    "    android_data[\"step_diff\"] = android_data[\"steps\"].diff()\n",
    "    heading_bin_var = android_data.groupby(\"round_time\")[\"heading\"].var()\n",
    "    heading_bin_mean = android_data.groupby(\"round_time\")[\"heading\"].mean()\n",
    "    step_bin_max = android_data.groupby(\"round_time\")[\"step_diff\"].sum()\n",
    "    step_bin_max.name = \"steps\"\n",
    "    heading_bin_mean.name = \"heading_mean\"\n",
    "    heading_bin_var.name = \"heading_var\"\n",
    "\n",
    "    rounded_df = pd.concat([heading_bin_var, heading_bin_mean, step_bin_max], 1)\n",
    "    rounded_df[\"turn\"] = rounded_df[\"heading_var\"] > var_threshold\n",
    "    rounded_df[\"cum_turn\"] = rounded_df[\"turn\"].cumsum()\n",
    "    grouped = rounded_df.groupby(\"cum_turn\")\n",
    "    headings = grouped[\"heading_mean\"].median()\n",
    "    start_step = grouped[\"steps\"].min()\n",
    "    end_step = grouped[\"steps\"].max()\n",
    "    steps = grouped[\"steps\"].sum()\n",
    "\n",
    "    instructions = pd.concat([headings, steps], 1)\n",
    "    instructions.columns=[\"heading\", \"steps\"]\n",
    "    instructions[\"height\"] = 0.0\n",
    "    #instructions = instructions[instructions[\"steps\"] > 0]\n",
    "    return instructions"
   ]
  },
  {
   "cell_type": "code",
   "execution_count": 120,
   "metadata": {
    "collapsed": false
   },
   "outputs": [
    {
     "data": {
      "text/plain": [
       "array([[   6.        ,  122.23042511,    0.        ],\n",
       "       [   3.        ,  118.09186659,    0.        ],\n",
       "       [   1.        ,  136.29336915,    0.        ],\n",
       "       [   8.        ,  279.36342529,    0.        ],\n",
       "       [   1.        ,  243.87355575,    0.        ],\n",
       "       [   2.        ,   32.67233785,    0.        ]])"
      ]
     },
     "execution_count": 120,
     "metadata": {},
     "output_type": "execute_result"
    }
   ],
   "source": [
    "process_data(var_threshold=100).as_matrix([\"steps\", \"heading\", \"height\"])"
   ]
  },
  {
   "cell_type": "code",
   "execution_count": 103,
   "metadata": {
    "collapsed": false
   },
   "outputs": [
    {
     "data": {
      "text/plain": [
       "21.0"
      ]
     },
     "execution_count": 103,
     "metadata": {},
     "output_type": "execute_result"
    }
   ],
   "source": [
    "android_data[\"step_diff\"].sum()"
   ]
  },
  {
   "cell_type": "code",
   "execution_count": 52,
   "metadata": {
    "collapsed": false
   },
   "outputs": [],
   "source": []
  },
  {
   "cell_type": "code",
   "execution_count": 54,
   "metadata": {
    "collapsed": false
   },
   "outputs": [],
   "source": []
  },
  {
   "cell_type": "code",
   "execution_count": 61,
   "metadata": {
    "collapsed": false
   },
   "outputs": [],
   "source": []
  },
  {
   "cell_type": "code",
   "execution_count": 63,
   "metadata": {
    "collapsed": false
   },
   "outputs": [],
   "source": []
  },
  {
   "cell_type": "code",
   "execution_count": 71,
   "metadata": {
    "collapsed": false
   },
   "outputs": [],
   "source": []
  },
  {
   "cell_type": "code",
   "execution_count": 79,
   "metadata": {
    "collapsed": false
   },
   "outputs": [],
   "source": []
  },
  {
   "cell_type": "code",
   "execution_count": 80,
   "metadata": {
    "collapsed": true
   },
   "outputs": [],
   "source": []
  },
  {
   "cell_type": "code",
   "execution_count": 81,
   "metadata": {
    "collapsed": false
   },
   "outputs": [
    {
     "data": {
      "text/html": [
       "<div>\n",
       "<table border=\"1\" class=\"dataframe\">\n",
       "  <thead>\n",
       "    <tr style=\"text-align: right;\">\n",
       "      <th></th>\n",
       "      <th>heading_mean</th>\n",
       "      <th>steps</th>\n",
       "    </tr>\n",
       "    <tr>\n",
       "      <th>cum_turn</th>\n",
       "      <th></th>\n",
       "      <th></th>\n",
       "    </tr>\n",
       "  </thead>\n",
       "  <tbody>\n",
       "    <tr>\n",
       "      <th>1</th>\n",
       "      <td>125.193555</td>\n",
       "      <td>3</td>\n",
       "    </tr>\n",
       "    <tr>\n",
       "      <th>2</th>\n",
       "      <td>70.465754</td>\n",
       "      <td>2</td>\n",
       "    </tr>\n",
       "    <tr>\n",
       "      <th>3</th>\n",
       "      <td>118.091867</td>\n",
       "      <td>2</td>\n",
       "    </tr>\n",
       "    <tr>\n",
       "      <th>8</th>\n",
       "      <td>256.309735</td>\n",
       "      <td>1</td>\n",
       "    </tr>\n",
       "    <tr>\n",
       "      <th>9</th>\n",
       "      <td>264.682395</td>\n",
       "      <td>1</td>\n",
       "    </tr>\n",
       "    <tr>\n",
       "      <th>10</th>\n",
       "      <td>292.766928</td>\n",
       "      <td>1</td>\n",
       "    </tr>\n",
       "    <tr>\n",
       "      <th>14</th>\n",
       "      <td>54.202261</td>\n",
       "      <td>2</td>\n",
       "    </tr>\n",
       "  </tbody>\n",
       "</table>\n",
       "</div>"
      ],
      "text/plain": [
       "          heading_mean  steps\n",
       "cum_turn                     \n",
       "1           125.193555      3\n",
       "2            70.465754      2\n",
       "3           118.091867      2\n",
       "8           256.309735      1\n",
       "9           264.682395      1\n",
       "10          292.766928      1\n",
       "14           54.202261      2"
      ]
     },
     "execution_count": 81,
     "metadata": {},
     "output_type": "execute_result"
    }
   ],
   "source": [
    "instructions"
   ]
  },
  {
   "cell_type": "code",
   "execution_count": null,
   "metadata": {
    "collapsed": true
   },
   "outputs": [],
   "source": []
  }
 ],
 "metadata": {
  "kernelspec": {
   "display_name": "Python 2",
   "language": "python",
   "name": "python2"
  },
  "language_info": {
   "codemirror_mode": {
    "name": "ipython",
    "version": 2
   },
   "file_extension": ".py",
   "mimetype": "text/x-python",
   "name": "python",
   "nbconvert_exporter": "python",
   "pygments_lexer": "ipython2",
   "version": "2.7.8"
  }
 },
 "nbformat": 4,
 "nbformat_minor": 0
}
